{
 "cells": [
  {
   "cell_type": "code",
   "execution_count": 1,
   "metadata": {},
   "outputs": [],
   "source": [
    "import numpy as np"
   ]
  },
  {
   "cell_type": "code",
   "execution_count": 2,
   "metadata": {},
   "outputs": [],
   "source": [
    "def sigma(x):\n",
    "    return(1/(1+np.exp(-x)))"
   ]
  },
  {
   "cell_type": "code",
   "execution_count": 3,
   "metadata": {},
   "outputs": [],
   "source": [
    "def sigma_deriv(x):\n",
    "    return(sigma(x)*(1-sigma(x)))"
   ]
  },
  {
   "cell_type": "code",
   "execution_count": 4,
   "metadata": {},
   "outputs": [],
   "source": [
    "def forward(x,w1,w2,predict=False):\n",
    "    a1=np.matmul(x,w1)\n",
    "    z1=sigma(a1)\n",
    "    bias=np.ones((len(z1),1))\n",
    "    z1=np.concatenate((bias,z1),axis=1)\n",
    "    a2=np.matmul(z1,w2)\n",
    "    z2=sigma(a2)\n",
    "    if predict:\n",
    "        return z2\n",
    "    return a1,z1,a2,z2"
   ]
  },
  {
   "cell_type": "code",
   "execution_count": 5,
   "metadata": {},
   "outputs": [],
   "source": [
    "def backprop(a2,z0,z1,z2,y):\n",
    "    delta2=z2-y\n",
    "    Delta2=np.matmul(z1.T,delta2)\n",
    "    delta1=(delta2.dot(w2[1:,:].T))*sigma_deriv(a1)\n",
    "    Delta1=np.matmul(z0.T,delta1)\n",
    "    return delta2,Delta1,Delta2"
   ]
  },
  {
   "cell_type": "code",
   "execution_count": 6,
   "metadata": {},
   "outputs": [],
   "source": [
    "x=np.array([[1,0,0],[1,0,1],[1,1,0],[1,1,1]])"
   ]
  },
  {
   "cell_type": "code",
   "execution_count": 7,
   "metadata": {},
   "outputs": [],
   "source": [
    "y=np.array([[0],[1],[1],[0]])"
   ]
  },
  {
   "cell_type": "code",
   "execution_count": 8,
   "metadata": {},
   "outputs": [],
   "source": [
    "w1=np.random.randn(3,5)\n",
    "w2=np.random.randn(6,1)"
   ]
  },
  {
   "cell_type": "code",
   "execution_count": 9,
   "metadata": {},
   "outputs": [
    {
     "name": "stdout",
     "output_type": "stream",
     "text": [
      "iteration:0.Error: 0.500493987080494\n",
      "iteration:1000.Error: 0.43002548515637\n",
      "Training complete\n",
      "percentages: \n",
      "[[0.33168018]\n",
      " [0.60482065]\n",
      " [0.62841905]\n",
      " [0.44556955]]\n",
      "predictions: \n",
      "[[0.]\n",
      " [1.]\n",
      " [1.]\n",
      " [0.]]\n"
     ]
    }
   ],
   "source": [
    "l_rate=0.1\n",
    "costs=[]\n",
    "epochs=1200\n",
    "m=len(x)\n",
    "for i in range(epochs):\n",
    "    a1,z1,a2,z2=forward(x,w1,w2)\n",
    "    delta2,Delta1,Delta2=backprop(a2,x,z1,z2,y)\n",
    "    w1-=l_rate*(1/m)*Delta1\n",
    "    w2-=l_rate*(1/m)*Delta2\n",
    "    c=np.mean(np.abs(delta2))\n",
    "    costs.append(c)\n",
    "    if(i%1000==0):\n",
    "        print(f\"iteration:{i}.Error: {c}\")\n",
    "print(\"Training complete\")\n",
    "z3=forward(x,w1,w2,True)\n",
    "print(\"percentages: \")\n",
    "print(z3)\n",
    "print(\"predictions: \")\n",
    "print(np.round(z3))"
   ]
  }
 ],
 "metadata": {
  "kernelspec": {
   "display_name": "Python 3",
   "language": "python",
   "name": "python3"
  },
  "language_info": {
   "codemirror_mode": {
    "name": "ipython",
    "version": 3
   },
   "file_extension": ".py",
   "mimetype": "text/x-python",
   "name": "python",
   "nbconvert_exporter": "python",
   "pygments_lexer": "ipython3",
   "version": "3.6.6"
  }
 },
 "nbformat": 4,
 "nbformat_minor": 2
}
